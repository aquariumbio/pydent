{
 "cells": [
  {
   "cell_type": "markdown",
   "metadata": {
    "colab_type": "text",
    "id": "-SDKSXkniO7S"
   },
   "source": [
    "# Planner tutorial\n",
    "\n",
    "Trident includes a :class:`pydent.planner.Planner` to handle experimental\n",
    "planning. To get started, lets first open a new Planner instance:"
   ]
  },
  {
   "cell_type": "code",
   "execution_count": 0,
   "metadata": {
    "colab": {},
    "colab_type": "code",
    "id": "UHVpVKzEiINk"
   },
   "outputs": [],
   "source": [
    "from mysession import local as session\n",
    "from pydent.planner import Planner\n",
    "\n",
    "planner = Planner(session)"
   ]
  },
  {
   "cell_type": "markdown",
   "metadata": {
    "colab_type": "text",
    "id": "ZsGYav-cib2g"
   },
   "source": [
    "The planning object instantiates a new plan for you. Of source,\n",
    "there are no wires or operations in the plan just yet:"
   ]
  },
  {
   "cell_type": "code",
   "execution_count": 2,
   "metadata": {
    "colab": {
     "base_uri": "https://localhost:8080/",
     "height": 52
    },
    "colab_type": "code",
    "id": "PkIoFwU5iX5O",
    "outputId": "3301d616-7d4a-4453-9c7f-c7e1360b7202"
   },
   "outputs": [
    {
     "name": "stdout",
     "output_type": "stream",
     "text": [
      "<Plan id=None rid=0>\n",
      "None\n"
     ]
    }
   ],
   "source": [
    "print(planner.plan)\n",
    "print(planner.plan.operations)"
   ]
  },
  {
   "cell_type": "markdown",
   "metadata": {
    "colab_type": "text",
    "id": "4FamVWhgikt6"
   },
   "source": [
    "We can create new operations from their :class:`pydent.models.OperationType` if we know the operation type's name, id, or have an OperationType instance. All of the following will create a new operation from the `Make PCR Fragment` operation type:\n"
   ]
  },
  {
   "cell_type": "code",
   "execution_count": 0,
   "metadata": {
    "colab": {},
    "colab_type": "code",
    "id": "INWyqztL0mh-"
   },
   "outputs": [],
   "source": [
    "ot = session.OperationType.find_by_name(\"Make PCR Fragment\")\n",
    "\n",
    "pcr_op = planner.new_op(ot)\n",
    "pcr_op = planner.new_op(ot.id)\n",
    "pcr_op = planner.new_op(ot.name)"
   ]
  },
  {
   "cell_type": "markdown",
   "metadata": {
    "colab_type": "text",
    "id": "m7K2vIEnku6F"
   },
   "source": [
    "We can add a wire explicitly between two field values:"
   ]
  },
  {
   "cell_type": "code",
   "execution_count": 4,
   "metadata": {
    "colab": {
     "base_uri": "https://localhost:8080/",
     "height": 123
    },
    "colab_type": "code",
    "id": "rl285ikilwTn",
    "outputId": "52050994-49be-4096-f32e-cc15cb6063fd"
   },
   "outputs": [
    {
     "name": "stdout",
     "output_type": "stream",
     "text": [
      "op1 outputs\n",
      "\tFragment\n",
      "\n",
      "op2 inputs\n",
      "\tFragment\n",
      "\tGel\n"
     ]
    }
   ],
   "source": [
    "op1 = planner.new_op(\"Make PCR Fragment\")\n",
    "op2 = planner.new_op(\"Run Gel\")\n",
    "\n",
    "print(\"op1 outputs\")\n",
    "for fv in op1.outputs:\n",
    "  print(\"\\t\" + fv.name)\n",
    "print()\n",
    "\n",
    "print(\"op2 inputs\")\n",
    "for fv in op2.inputs:\n",
    "  print(\"\\t\" + fv.name)\n",
    "  \n",
    "new_wire = planner.add_wire(op1.output('Fragment'), op2.input('Fragment'))"
   ]
  },
  {
   "cell_type": "markdown",
   "metadata": {
    "colab_type": "text",
    "id": "m25zHuy1mdtU"
   },
   "source": [
    "However, if we tried to wire a `Fragment` output to a `Gel` input, we will get an error as there are no allowable field types that match the output to the input"
   ]
  },
  {
   "cell_type": "code",
   "execution_count": 5,
   "metadata": {
    "colab": {
     "base_uri": "https://localhost:8080/",
     "height": 34
    },
    "colab_type": "code",
    "id": "yUN_0lbAmdHG",
    "outputId": "5bc1e14f-4814-46a5-89ee-dc77eb5e21d4"
   },
   "outputs": [
    {
     "name": "stdout",
     "output_type": "stream",
     "text": [
      "Cannot wire \"Fragment\" to \"Gel\". No allowable field types match.\n"
     ]
    }
   ],
   "source": [
    "try:\n",
    "  new_wire = planner.add_wire(op1.output('Fragment'), op2.input('Gel'))\n",
    "except Exception as e:\n",
    "  print(e)"
   ]
  },
  {
   "cell_type": "markdown",
   "metadata": {
    "colab_type": "text",
    "id": "2uCrlklTnLcx"
   },
   "source": [
    "You can see the above code can become pretty cumbersome with many operations and wires. Most operations only contain a handful of inputs and outputs and the wiring can often be inferred from whether allowable field types can match between outputs and inputs. In this case, the Planner provide the ability to quickly\n",
    "chain together operations:"
   ]
  },
  {
   "cell_type": "code",
   "execution_count": 0,
   "metadata": {
    "colab": {},
    "colab_type": "code",
    "id": "eoHxDePym1fG"
   },
   "outputs": [],
   "source": [
    "planner = Planner(session)\n",
    "ops = planner.chain(\"Make PCR Fragment\", \"Run Gel\", \"Extract Gel Slice\", \"Purify Gel Slice\")\n",
    "pcr_op = ops[0]\n",
    "purify_op = ops[-1]"
   ]
  },
  {
   "cell_type": "markdown",
   "metadata": {
    "colab_type": "text",
    "id": "sledaQ0komi-"
   },
   "source": [
    "We can also include specific operation instances in the chain. The following will create a Pour Gel and wire it the the only available input of Run Gel:"
   ]
  },
  {
   "cell_type": "code",
   "execution_count": 7,
   "metadata": {
    "colab": {
     "base_uri": "https://localhost:8080/",
     "height": 52
    },
    "colab_type": "code",
    "id": "0TcLR3KGpibw",
    "outputId": "a71a1bea-cfd7-4d92-8e62-3c815f5b8c58"
   },
   "outputs": [
    {
     "data": {
      "text/plain": [
       "[<pydent.models.operation.Operation at 0xa1d91f990>,\n",
       " <pydent.models.operation.Operation at 0xa1d8f7048>]"
      ]
     },
     "execution_count": 7,
     "metadata": {
      "tags": []
     },
     "output_type": "execute_result"
    }
   ],
   "source": [
    "planner.chain(\"Pour Gel\", ops[1])"
   ]
  },
  {
   "cell_type": "markdown",
   "metadata": {
    "colab_type": "text",
    "id": "rjha1kqbp70k"
   },
   "source": [
    "We can take a look at the wires and see there are "
   ]
  },
  {
   "cell_type": "code",
   "execution_count": 8,
   "metadata": {
    "colab": {
     "base_uri": "https://localhost:8080/",
     "height": 87
    },
    "colab_type": "code",
    "id": "nQ8d5ooAp8TF",
    "outputId": "f8cb2c6a-5b11-4e11-c3cd-a7bffb768efd"
   },
   "outputs": [
    {
     "name": "stdout",
     "output_type": "stream",
     "text": [
      "Make PCR Fragment.Fragment -> Run Gel.Fragment\n",
      "Run Gel.Fragment -> Extract Gel Slice.Fragment\n",
      "Extract Gel Slice.Fragment -> Purify Gel Slice.Gel\n",
      "Pour Gel.Lane -> Run Gel.Gel\n"
     ]
    }
   ],
   "source": [
    "def print_fv(fv):\n",
    "  return \"{}.{}\".format(fv.operation.operation_type.name, fv.name)\n",
    "\n",
    "def print_wire(w):\n",
    "  return \"{} -> {}\".format(print_fv(w.source), print_fv(w.destination))\n",
    "\n",
    "for w in planner.plan.wires:\n",
    "  print(print_wire(w))"
   ]
  },
  {
   "cell_type": "markdown",
   "metadata": {
    "colab_type": "text",
    "id": "HOfPuP6Aq251"
   },
   "source": [
    "Now what we have is a blank plan template. Inputs and outputs have not been assigned inventory or samples.\n",
    "We can assign values to field values using the following to "
   ]
  },
  {
   "cell_type": "code",
   "execution_count": 9,
   "metadata": {
    "colab": {
     "base_uri": "https://localhost:8080/",
     "height": 34
    },
    "colab_type": "code",
    "id": "wklleSJsrHVT",
    "outputId": "83a673e2-5d28-4486-a966-3297eef2f863"
   },
   "outputs": [
    {
     "data": {
      "text/plain": [
       "<pydent.models.sample.Sample at 0xa1d9390d8>"
      ]
     },
     "execution_count": 9,
     "metadata": {
      "tags": []
     },
     "output_type": "execute_result"
    }
   ],
   "source": [
    "fv = pcr_op.output('Fragment')\n",
    "st = session.SampleType.find_by_name(\"Fragment\")\n",
    "s = session.Sample.one(query={\"sample_type_id\": st.id})\n",
    "planner.set_field_value(fv, sample=s)\n",
    "\n",
    "pcr_op.outputs[0].sample"
   ]
  },
  {
   "cell_type": "markdown",
   "metadata": {
    "colab_type": "text",
    "id": "6U-KvvdNsHYD"
   },
   "source": [
    "However, we see that other operations do not have their inputs or outputs set:"
   ]
  },
  {
   "cell_type": "code",
   "execution_count": 0,
   "metadata": {
    "colab": {},
    "colab_type": "code",
    "id": "ZaUFK88isGuR"
   },
   "outputs": [],
   "source": [
    "assert purify_op.outputs[0].sample is None"
   ]
  },
  {
   "cell_type": "markdown",
   "metadata": {
    "colab_type": "text",
    "id": "NC20yhvrrY8k"
   },
   "source": [
    "The Planner can use the wires and OperationType to automatically set samples across wires and field values. We can see that the output of `Extract Gel Slice` now has a sample set as well."
   ]
  },
  {
   "cell_type": "code",
   "execution_count": 11,
   "metadata": {
    "colab": {
     "base_uri": "https://localhost:8080/",
     "height": 34
    },
    "colab_type": "code",
    "id": "2W5zRS8ArYRW",
    "outputId": "6b2be1b6-7fef-479c-fa4f-d15c21ae688c"
   },
   "outputs": [
    {
     "data": {
      "text/plain": [
       "<pydent.models.sample.Sample at 0xa1d948318>"
      ]
     },
     "execution_count": 11,
     "metadata": {
      "tags": []
     },
     "output_type": "execute_result"
    }
   ],
   "source": [
    "fv = pcr_op.output('Fragment')\n",
    "st = session.SampleType.find_by_name(\"Fragment\")\n",
    "s = session.Sample.one(query={\"sample_type_id\": st.id})\n",
    "planner.set_field_value_and_propogate(fv, sample=s)\n",
    "\n",
    "purify_op.outputs[0].sample"
   ]
  },
  {
   "cell_type": "markdown",
   "metadata": {
    "colab_type": "text",
    "id": "6XbdicECrCX3"
   },
   "source": [
    "In some special cases, the inputs of operations can be inferred from the sample properties. For example, Fragments may have a 'Template', 'Reverse Primer' and 'Forward Primer' attributes. These could be used to set the inputs of the `Make PCR Fragment` operation:"
   ]
  },
  {
   "cell_type": "code",
   "execution_count": 12,
   "metadata": {
    "colab": {
     "base_uri": "https://localhost:8080/",
     "height": 107
    },
    "colab_type": "code",
    "id": "VHZFieMbs2IW",
    "outputId": "07d9ab24-3e90-4a38-c592-0f2ddb78154b"
   },
   "outputs": [
    {
     "name": "stdout",
     "output_type": "stream",
     "text": [
      "{'Sequence': None, 'Length': 704, 'Template': None, 'Forward Primer': None, 'Reverse Primer': None, 'Restriction Enzyme(s)': None, 'Yeast Marker': None, 'Fragment Mix Array': [<pydent.models.sample.Sample object at 0xa1d8f7240>, <pydent.models.sample.Sample object at 0xa1da1d120>, <pydent.models.sample.Sample object at 0xa1da1d360>, <pydent.models.sample.Sample object at 0xa1da1bea0>, <pydent.models.sample.Sample object at 0xa1d958f30>, <pydent.models.sample.Sample object at 0xa1d971438>, <pydent.models.sample.Sample object at 0xa1da2dcf0>, <pydent.models.sample.Sample object at 0xa1da37048>, <pydent.models.sample.Sample object at 0xa1da32510>, <pydent.models.sample.Sample object at 0xa1da36318>, <pydent.models.sample.Sample object at 0xa1da42a68>, <pydent.models.sample.Sample object at 0xa1da37a68>, <pydent.models.sample.Sample object at 0xa1da46ea0>, <pydent.models.sample.Sample object at 0xa1da42c18>]}\n",
      "None\n",
      "None\n",
      "None\n"
     ]
    }
   ],
   "source": [
    "planner.set_output_sample(pcr_op.outputs[0], sample=s)\n",
    "\n",
    "print(s.properties)\n",
    "for fv in pcr_op.inputs:\n",
    "  print(fv.sample)"
   ]
  },
  {
   "cell_type": "markdown",
   "metadata": {
    "colab_type": "text",
    "id": "dXyW9ZYJvzNP"
   },
   "source": [
    "The planner also has a class for modifying the layout of the operations on the Aquarium server. To If using a jupyter notebook, we can print off the layout to the cell."
   ]
  },
  {
   "cell_type": "code",
   "execution_count": 13,
   "metadata": {
    "colab": {
     "base_uri": "https://localhost:8080/",
     "height": 335
    },
    "colab_type": "code",
    "id": "TS-fLC-jtYik",
    "outputId": "ecf5b65c-f860-4b49-a0b6-2c2207553b62"
   },
   "outputs": [
    {
     "data": {
      "image/png": "[encoded data removed]",
      "text/plain": [
       "<Figure size 432x288 with 1 Axes>"
      ]
     },
     "metadata": {
      "tags": []
     },
     "output_type": "display_data"
    }
   ],
   "source": [
    "%matplotlib inline\n",
    "\n",
    "planner.layout.draw()"
   ]
  },
  {
   "cell_type": "markdown",
   "metadata": {
    "colab_type": "text",
    "id": "956S7wEywodu"
   },
   "source": [
    "We may find the layout is messy or operations are overlapping. We can prettify the layout using the following:"
   ]
  },
  {
   "cell_type": "code",
   "execution_count": 14,
   "metadata": {
    "colab": {
     "base_uri": "https://localhost:8080/",
     "height": 335
    },
    "colab_type": "code",
    "id": "XhHm4b-Swtqz",
    "outputId": "57e55deb-7827-4e50-dfc7-454f06be5307"
   },
   "outputs": [
    {
     "data": {
      "image/png": "[encoded data removed]",
      "text/plain": [
       "<Figure size 432x288 with 1 Axes>"
      ]
     },
     "metadata": {
      "tags": []
     },
     "output_type": "display_data"
    }
   ],
   "source": [
    "planner.layout.prettify()\n",
    "planner.layout.draw()"
   ]
  },
  {
   "cell_type": "markdown",
   "metadata": {
    "colab_type": "text",
    "id": "P_B6aB5xwwrt"
   },
   "source": [
    "We can treat Planners like templates and split and combine as needed. For example, if we wanted two of the same Plan template, we could do any of the following:"
   ]
  },
  {
   "cell_type": "code",
   "execution_count": 15,
   "metadata": {
    "colab": {
     "base_uri": "https://localhost:8080/",
     "height": 335
    },
    "colab_type": "code",
    "id": "aeTrEHy-wwBb",
    "outputId": "05119c5b-e315-4069-a036-50ba0c847b1b"
   },
   "outputs": [
    {
     "data": {
      "image/png": "[encoded data removed]",
      "text/plain": [
       "<Figure size 432x288 with 1 Axes>"
      ]
     },
     "metadata": {
      "tags": []
     },
     "output_type": "display_data"
    }
   ],
   "source": [
    "combined_planner = planner + planner\n",
    "combined_planner = planner * 2\n",
    "combined_planner = Planner.combine([planner, planner])\n",
    "\n",
    "# draw\n",
    "combined_planner.layout.prettify()\n",
    "combined_planner.draw()"
   ]
  },
  {
   "cell_type": "markdown",
   "metadata": {
    "colab_type": "text",
    "id": "WNDVhXuZ3GN9"
   },
   "source": [
    "We can split apart a plan:"
   ]
  },
  {
   "cell_type": "code",
   "execution_count": 18,
   "metadata": {
    "colab": {
     "base_uri": "https://localhost:8080/",
     "height": 353
    },
    "colab_type": "code",
    "id": "ftAK3F1q3I20",
    "outputId": "40bc4dc8-5fd9-4fe2-d8a3-fc31fc16c800"
   },
   "outputs": [
    {
     "name": "stdout",
     "output_type": "stream",
     "text": [
      "2\n"
     ]
    },
    {
     "data": {
      "image/png": "[encoded data removed]",
      "text/plain": [
       "<Figure size 432x288 with 1 Axes>"
      ]
     },
     "metadata": {
      "tags": []
     },
     "output_type": "display_data"
    }
   ],
   "source": [
    "plans = combined_planner.split()\n",
    "print(len(plans))\n",
    "plans[0].draw()"
   ]
  },
  {
   "cell_type": "markdown",
   "metadata": {
    "colab_type": "text",
    "id": "jhyyrNs8w-RZ"
   },
   "source": [
    "Finally, if we want to save the plan to the server, we can just call `save()`:"
   ]
  },
  {
   "cell_type": "code",
   "execution_count": 16,
   "metadata": {
    "colab": {
     "base_uri": "https://localhost:8080/",
     "height": 34
    },
    "colab_type": "code",
    "id": "QxQjnGBPxClb",
    "outputId": "d9c41b55-a4ad-471a-aa46-acf20af50af7"
   },
   "outputs": [
    {
     "name": "stdout",
     "output_type": "stream",
     "text": [
      "33845\n"
     ]
    }
   ],
   "source": [
    "planner.save()\n",
    "print(planner.plan.id)  # should have a server id now"
   ]
  },
  {
   "cell_type": "markdown",
   "metadata": {
    "colab_type": "text",
    "id": "jBwHh3UlxNxC"
   },
   "source": [
    "If in a jupyter notebook, we can display a html link to the plan:"
   ]
  },
  {
   "cell_type": "code",
   "execution_count": 17,
   "metadata": {
    "colab": {
     "base_uri": "https://localhost:8080/",
     "height": 33
    },
    "colab_type": "code",
    "id": "ovP3v-9pxOTb",
    "outputId": "ae4c551a-bcb2-4ece-f14c-db70f2d13fe7"
   },
   "outputs": [
    {
     "data": {
      "text/html": [
       "<a href=\"http://0.0.0.0plans?plan_id=33845\">http://0.0.0.0plans?plan_id=33845</a>"
      ],
      "text/plain": [
       "<IPython.core.display.HTML object>"
      ]
     },
     "metadata": {
      "tags": []
     },
     "output_type": "display_data"
    }
   ],
   "source": [
    "planner.ipython_link()"
   ]
  }
 ],
 "metadata": {
  "colab": {
   "collapsed_sections": [],
   "name": "PlannerTutorial.ipynb",
   "provenance": [],
   "version": "0.3.2"
  },
  "kernelspec": {
   "display_name": "Python 3",
   "language": "python",
   "name": "python3"
  },
  "pycharm": {
   "stem_cell": {
    "cell_type": "raw",
    "metadata": {
     "collapsed": false
    },
    "source": []
   }
  }
 },
 "nbformat": 4,
 "nbformat_minor": 0
}
